{
  "nbformat": 4,
  "nbformat_minor": 0,
  "metadata": {
    "colab": {
      "name": "kiva.ipynb",
      "provenance": [],
      "collapsed_sections": []
    },
    "kernelspec": {
      "name": "python3",
      "display_name": "Python 3"
    },
    "language_info": {
      "name": "python"
    }
  },
  "cells": [
    {
      "cell_type": "code",
      "metadata": {
        "id": "WNVd7nncxK1y"
      },
      "source": [
        "import pandas as pd \n",
        "import numpy as np\n",
        "\n",
        "# visualization \n",
        "import matplotlib.pyplot as plt\n",
        "import seaborn as sns \n",
        "\n",
        " # Feature Engineering\n",
        "from sklearn.preprocessing import OneHotEncoder\n",
        "from sklearn.preprocessing import LabelEncoder\n",
        "# scaling \n",
        "from sklearn.preprocessing import StandardScaler\n",
        "# splitting \n",
        "from sklearn.model_selection import train_test_split\n"
      ],
      "execution_count": null,
      "outputs": []
    },
    {
      "cell_type": "code",
      "metadata": {
        "id": "mekdPQxp9hoA"
      },
      "source": [
        "data=pd.read_csv('kiva_loans.csv')"
      ],
      "execution_count": null,
      "outputs": []
    },
    {
      "cell_type": "code",
      "metadata": {
        "id": "fjUQq4kbH4j5"
      },
      "source": [
        "df=data.copy()"
      ],
      "execution_count": null,
      "outputs": []
    },
    {
      "cell_type": "code",
      "metadata": {
        "id": "n9h_hJJcmQsJ"
      },
      "source": [
        "# _________________________________Neened functions for EDA _____________________\n",
        "\n",
        "# _________________To find  the count of male an female \n",
        "\n",
        "def get_male_count(x):\n",
        "    count = 0\n",
        "    for gender in str(x).split(', '):\n",
        "        if gender == 'male':\n",
        "            count += 1\n",
        "    return count\n",
        "\n",
        "def get_female_count(x):\n",
        "    count = 0\n",
        "    for gender in str(x).split(', '):\n",
        "        if gender == 'female':\n",
        "            count += 1\n",
        "    return count\n",
        "\n",
        "\n",
        "# # ______ to defiende th loan_statuse\n",
        "def dff(x):\n",
        "    if x ==0:\n",
        "        return \"completed\"\n",
        "    else:\n",
        "        return \"Not Completed\"\n",
        "\n",
        "# # ______ to rank the partners \n",
        "# def partner_rank(x):\n",
        "#     if x >= 100000:\n",
        "#         return \"Dimond\"\n",
        "#     elif x < 100000 and x>= 50000 :\n",
        "#         return \"Golden\"\n",
        "#     elif x < 50000 and x>= 10000 :\n",
        "#         return \"Silver\"\n",
        "#     elif x < 10000 :\n",
        "#         return \"Bronze\"\n",
        "# _____________________________________________________\n",
        "\n",
        "#  _____drop Unused coulmns\n",
        "#  _____date column is repeted coulmn \n",
        "df = df.drop(['partner_id','id', 'tags','use','country_code','disbursed_time','region','term_in_months','currency'], axis=1)\n",
        "\n",
        "# ______to finde the diffrance btween loan_amount and funded_amount\n",
        "df['difference']= df['loan_amount'] - df['funded_amount']\n",
        "\n",
        "#  _____ to remove an outliear that loan_amount < funded_amount\n",
        "df.drop(df[df['difference']<0].index,inplace=True)\n",
        "\n",
        "\n",
        "# ______convert oject to date time data type \n",
        "df['posted_time']=pd.to_datetime(df['posted_time'].str.strip(), format='%Y/%m/%d')\n",
        "df['funded_time']=pd.to_datetime(df['funded_time'].str.strip(), format='%Y/%m/%d')\n",
        "\n",
        "# ______get just the data \n",
        "df['posted_time']= [d.date() for d in df['posted_time']]\n",
        "df['funded_time']= [d.date() for d in df['funded_time']]\n",
        "\n",
        "# _____calculate the Execution_Time\n",
        "df['Execution_Time']= df['funded_time']- df['posted_time']\n",
        "\n",
        "# _____ to rank the partner into 4 categorize\n",
        "# df[\"partner_rank\"] = df[\"partner_id\"].value_counts().map(partner_rank)\n",
        "\n",
        "# ______apply the get_male_count and get_female_count functions \n",
        "df['male_count'] = df['borrower_genders'].apply(get_male_count)\n",
        "df['female_count'] = df['borrower_genders'].apply(get_female_count)\n",
        "\n",
        "# ______loan_statuse\n",
        "df['loan_statuse']=df['difference'].map(dff)\n",
        "\n",
        "# ______drop after it used \n",
        "df = df.drop(['borrower_genders','posted_time','funded_time'], axis=1)\n"
      ],
      "execution_count": null,
      "outputs": []
    },
    {
      "cell_type": "code",
      "metadata": {
        "colab": {
          "base_uri": "https://localhost:8080/",
          "height": 167
        },
        "id": "_RkJaHiYf1B0",
        "outputId": "2f3f5259-8ca6-4734-e933-1cafe78182c0"
      },
      "source": [
        "df.sample(2)"
      ],
      "execution_count": null,
      "outputs": [
        {
          "output_type": "execute_result",
          "data": {
            "text/html": [
              "<div>\n",
              "<style scoped>\n",
              "    .dataframe tbody tr th:only-of-type {\n",
              "        vertical-align: middle;\n",
              "    }\n",
              "\n",
              "    .dataframe tbody tr th {\n",
              "        vertical-align: top;\n",
              "    }\n",
              "\n",
              "    .dataframe thead th {\n",
              "        text-align: right;\n",
              "    }\n",
              "</style>\n",
              "<table border=\"1\" class=\"dataframe\">\n",
              "  <thead>\n",
              "    <tr style=\"text-align: right;\">\n",
              "      <th></th>\n",
              "      <th>funded_amount</th>\n",
              "      <th>loan_amount</th>\n",
              "      <th>activity</th>\n",
              "      <th>sector</th>\n",
              "      <th>country</th>\n",
              "      <th>lender_count</th>\n",
              "      <th>repayment_interval</th>\n",
              "      <th>date</th>\n",
              "      <th>difference</th>\n",
              "      <th>Execution_Time</th>\n",
              "      <th>male_count</th>\n",
              "      <th>female_count</th>\n",
              "      <th>loan_statuse</th>\n",
              "    </tr>\n",
              "  </thead>\n",
              "  <tbody>\n",
              "    <tr>\n",
              "      <th>137907</th>\n",
              "      <td>2575.0</td>\n",
              "      <td>2575.0</td>\n",
              "      <td>General Store</td>\n",
              "      <td>Retail</td>\n",
              "      <td>Paraguay</td>\n",
              "      <td>2</td>\n",
              "      <td>irregular</td>\n",
              "      <td>2014-10-24</td>\n",
              "      <td>0.0</td>\n",
              "      <td>11 days</td>\n",
              "      <td>0</td>\n",
              "      <td>15</td>\n",
              "      <td>completed</td>\n",
              "    </tr>\n",
              "    <tr>\n",
              "      <th>9245</th>\n",
              "      <td>475.0</td>\n",
              "      <td>475.0</td>\n",
              "      <td>Manufacturing</td>\n",
              "      <td>Manufacturing</td>\n",
              "      <td>Pakistan</td>\n",
              "      <td>14</td>\n",
              "      <td>monthly</td>\n",
              "      <td>2014-01-27</td>\n",
              "      <td>0.0</td>\n",
              "      <td>1 days</td>\n",
              "      <td>0</td>\n",
              "      <td>1</td>\n",
              "      <td>completed</td>\n",
              "    </tr>\n",
              "  </tbody>\n",
              "</table>\n",
              "</div>"
            ],
            "text/plain": [
              "        funded_amount  loan_amount  ... female_count loan_statuse\n",
              "137907         2575.0       2575.0  ...           15    completed\n",
              "9245            475.0        475.0  ...            1    completed\n",
              "\n",
              "[2 rows x 13 columns]"
            ]
          },
          "metadata": {},
          "execution_count": 58
        }
      ]
    },
    {
      "cell_type": "code",
      "metadata": {
        "id": "JStamWB9P7ji"
      },
      "source": [
        "df['Execution_Time']=df['Execution_Time'].fillna('0')"
      ],
      "execution_count": null,
      "outputs": []
    },
    {
      "cell_type": "code",
      "metadata": {
        "colab": {
          "base_uri": "https://localhost:8080/"
        },
        "id": "FO1AyUibBuPr",
        "outputId": "1e1cc2c0-85e1-49d9-c318-7de5f7636480"
      },
      "source": [
        "df.isna().sum()"
      ],
      "execution_count": null,
      "outputs": [
        {
          "output_type": "execute_result",
          "data": {
            "text/plain": [
              "funded_amount         0\n",
              "loan_amount           0\n",
              "activity              0\n",
              "sector                0\n",
              "country               0\n",
              "lender_count          0\n",
              "repayment_interval    0\n",
              "date                  0\n",
              "difference            0\n",
              "Execution_Time        0\n",
              "male_count            0\n",
              "female_count          0\n",
              "loan_statuse          0\n",
              "dtype: int64"
            ]
          },
          "metadata": {},
          "execution_count": 62
        }
      ]
    },
    {
      "cell_type": "code",
      "metadata": {
        "id": "fEzaJ3gSOxCe"
      },
      "source": [
        "# To save the dataset \n",
        "# df.to_csv('Kiva.csv')"
      ],
      "execution_count": null,
      "outputs": []
    }
  ]
}